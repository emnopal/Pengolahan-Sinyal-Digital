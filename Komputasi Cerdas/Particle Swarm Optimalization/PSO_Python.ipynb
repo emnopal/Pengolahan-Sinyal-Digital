{
 "cells": [
  {
   "cell_type": "markdown",
   "metadata": {},
   "source": [
    "Implementasikan PSO dari fungsi fitness $f(x)$ berikut sehingga fungsi tersebut menghasilkan nilai minimum <br> <br> \n",
    "$$f(x) = 3x^2_1 + x^2_2 + x^2_3 - 3x_1x_2 - 2x_1x_3 - 3x_2x_3 - 5x_1 - 4x_2 - 6x_3$$ dengan batas, <center> $0 \\leq x_1, x_2, x_3 \\leq 15$ </center> "
   ]
  },
  {
   "cell_type": "code",
   "execution_count": 4,
   "metadata": {},
   "outputs": [],
   "source": [
    "import numpy as np\n",
    "import random\n",
    "import matplotlib.pyplot as plt"
   ]
  },
  {
   "cell_type": "code",
   "execution_count": 5,
   "metadata": {},
   "outputs": [],
   "source": [
    "def fitness(*args):\n",
    "    return 3 * (x[0,0])**2 + (x[0,1])**2 + (x[0,2])**2 \\\n",
    "           - 3 * x[0,0] * x[0,1] - 2 * x[0,0] * x[0,2] - 3 * x[0,1] * \\\n",
    "           x[0,2] - 5 * x[0,0] - 4 * x[0,1] - 6 * x[0,2]"
   ]
  },
  {
   "cell_type": "code",
   "execution_count": 15,
   "metadata": {},
   "outputs": [
    {
     "name": "stdout",
     "output_type": "stream",
     "text": [
      "[3. 3. 3.]\n",
      "-72.0\n"
     ]
    }
   ],
   "source": [
    "partikel = 20\n",
    "D = 3\n",
    "atas = 15\n",
    "bawah = 0\n",
    "total = atas - bawah\n",
    "f = np.zeros((partikel,1))\n",
    "v = np.zeros((partikel,D))\n",
    "p = np.zeros((partikel,D))\n",
    "iter = 10000\n",
    "c1 = 1\n",
    "c2 = 1\n",
    "minftot = []\n",
    "x = total * np.random.rand(partikel,D)\n",
    "x = 3 + np.zeros((partikel,D))\n",
    "\n",
    "for i in range(0, partikel): \n",
    "    f[i,:]= fitness(*x[i,:])\n",
    "\n",
    "P = x\n",
    "fbest = f\n",
    "[minf] = min(f)\n",
    "G = x[0,:]\n",
    "\n",
    "for t in range(0, iter):\n",
    "    for d in range(0, D):\n",
    "        for i in range(1, partikel):\n",
    "            v[i,d] += (c1 * np.random.rand()) * (P[i,d] - x[i,d]) + (c2 * np.random.rand()) * (G[d] - x[i,d])\n",
    "            x[i,d] += v[i,d]       \n",
    "    for i in range(0, partikel):\n",
    "        f[i,:] = fitness(*x[i,:])\n",
    "    changerow_array = f < fbest\n",
    "    changerow = changerow_array.astype(int)\n",
    "    fbest *= (1-changerow) + f * changerow\n",
    "    P[changerow] = x[changerow]\n",
    "    [minf] = min(fbest)\n",
    "    minftot = [minftot,minf]\n",
    "    G = P[0,:]\n",
    "    \n",
    "x_optimal = G\n",
    "minimum_f = minf\n",
    "print(x_optimal)\n",
    "print(minimum_f)\n",
    "#plt.plot(minftot)"
   ]
  },
  {
   "cell_type": "code",
   "execution_count": 16,
   "metadata": {},
   "outputs": [
    {
     "name": "stdout",
     "output_type": "stream",
     "text": [
      "[3. 3. 3.]\n",
      "-72.0\n"
     ]
    }
   ],
   "source": [
    "partikel = 20\n",
    "D = 3\n",
    "atas = 15\n",
    "bawah = 0\n",
    "total = atas - bawah\n",
    "f = np.zeros((partikel,1))\n",
    "v = np.zeros((partikel,D))\n",
    "p = np.zeros((partikel,D))\n",
    "iter = 10000\n",
    "c1 = 1\n",
    "c2 = 1\n",
    "minftot = []\n",
    "x = total * np.random.rand(partikel,D)\n",
    "#x = 3 + np.zeros((partikel,D))\n",
    "\n",
    "for i in range(0, partikel): \n",
    "    f[i,:]= fitness(*x[i,:])\n",
    "\n",
    "P = x\n",
    "fbest = f\n",
    "[minf] = min(f)\n",
    "G = x[0,:]\n",
    "\n",
    "for t in range(0, iter):\n",
    "    for d in range(0, D):\n",
    "        for i in range(1, partikel):\n",
    "            v[i,d] += (c1 * np.random.rand()) * (P[i,d] - x[i,d]) + (c2 * np.random.rand()) * (G[d] - x[i,d])\n",
    "            x[i,d] += v[i,d]       \n",
    "    for i in range(0, partikel):\n",
    "        f[i,:] = fitness(*x[i,:])\n",
    "changerow_array = f < fbest\n",
    "changerow = changerow_array.astype(int)\n",
    "fbest *= (1-changerow) + f * changerow\n",
    "P[changerow] = x[changerow]\n",
    "[minf] = min(fbest)\n",
    "minftot = [minftot,minf]\n",
    "G = P[0,:]\n",
    "    \n",
    "x_optimal = G\n",
    "minimum_f = minf\n",
    "print(x_optimal)\n",
    "print(minimum_f)"
   ]
  }
 ],
 "metadata": {
  "kernelspec": {
   "display_name": "Python 3",
   "language": "python",
   "name": "python3"
  },
  "language_info": {
   "codemirror_mode": {
    "name": "ipython",
    "version": 3
   },
   "file_extension": ".py",
   "mimetype": "text/x-python",
   "name": "python",
   "nbconvert_exporter": "python",
   "pygments_lexer": "ipython3",
   "version": "3.7.6"
  }
 },
 "nbformat": 4,
 "nbformat_minor": 4
}
