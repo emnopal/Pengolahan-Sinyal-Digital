{
 "cells": [
  {
   "cell_type": "markdown",
   "metadata": {},
   "source": [
    "Implementasikan PSO dari fungsi fitness $f(x)$ berikut sehingga fungsi tersebut menghasilkan nilai minimum <br> <br> \n",
    "$$\\epsilon = -0.0001{\\theta}^2 + 0.0071{\\theta} + 19.714$$ dengan batas, <center> $0 \\leq \\theta \\leq 180$ </center> \n",
    "keterangan: <br> $\\epsilon$ = Tegangan (Volt) <br> $\\theta$ = Sudut Datang"
   ]
  },
  {
   "cell_type": "code",
   "execution_count": 1,
   "metadata": {},
   "outputs": [],
   "source": [
    "import numpy as np\n",
    "import random"
   ]
  },
  {
   "cell_type": "code",
   "execution_count": 11,
   "metadata": {},
   "outputs": [],
   "source": [
    "def main():\n",
    "    \n",
    "    def fitness(*args):\n",
    "        return -0.0001*x*x + 0.0071*x + 19.714\n",
    "    \n",
    "    partikel = 1\n",
    "    D = 1\n",
    "    atas = 180\n",
    "    bawah = 0\n",
    "    total = atas - bawah\n",
    "    f = np.zeros((partikel,1))\n",
    "    v = np.zeros((partikel,D))\n",
    "    p = np.zeros((partikel,D))\n",
    "    iter = 10000\n",
    "    c1 = 1\n",
    "    c2 = 1\n",
    "    minftot = []\n",
    "    x = total * np.random.rand(partikel,D)\n",
    "\n",
    "    for i in range(0, partikel): \n",
    "        f[i,:]= fitness(*x[i,:])\n",
    "\n",
    "    P = x\n",
    "    fbest = f\n",
    "    [minf] = min(f)\n",
    "    G = x[0,:]\n",
    "\n",
    "    for t in range(0, iter):\n",
    "        for d in range(0, D):\n",
    "            for i in range(1, partikel):\n",
    "                v[i,d] += (c1 * np.random.rand()) * (P[i,d] - x[i,d]) + (c2 * np.random.rand()) * (G[d] - x[i,d])\n",
    "                x[i,d] += v[i,d]       \n",
    "        for i in range(0, partikel):\n",
    "            f[i,:] = fitness(*x[i,:])\n",
    "        changerow_array = f < fbest\n",
    "        changerow = changerow_array.astype(int)\n",
    "        fbest *= (1-changerow) + f * changerow\n",
    "        P[changerow] = x[changerow]\n",
    "        [minf] = min(fbest)\n",
    "        minftot = [minftot,minf]\n",
    "        G = P[0,:]\n",
    "    \n",
    "    x_optimal = G\n",
    "    minimum_f = minf\n",
    "    print(\"Sudut: \", x_optimal)\n",
    "    print(\"Voltase: \", minimum_f)"
   ]
  },
  {
   "cell_type": "code",
   "execution_count": 25,
   "metadata": {},
   "outputs": [
    {
     "name": "stdout",
     "output_type": "stream",
     "text": [
      "Sudut:  [118.06452363]\n",
      "Voltase:  19.158334943844448\n"
     ]
    }
   ],
   "source": [
    "main()"
   ]
  }
 ],
 "metadata": {
  "kernelspec": {
   "display_name": "Python 3",
   "language": "python",
   "name": "python3"
  },
  "language_info": {
   "codemirror_mode": {
    "name": "ipython",
    "version": 3
   },
   "file_extension": ".py",
   "mimetype": "text/x-python",
   "name": "python",
   "nbconvert_exporter": "python",
   "pygments_lexer": "ipython3",
   "version": "3.7.6"
  }
 },
 "nbformat": 4,
 "nbformat_minor": 4
}
